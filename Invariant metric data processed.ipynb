{
 "cells": [
  {
   "cell_type": "markdown",
   "metadata": {},
   "source": [
    "# A/B Testing New Home Page for Software Website"
   ]
  },
  {
   "cell_type": "markdown",
   "metadata": {},
   "source": [
    "A/B testing performed to evaluate new home page of software website. There are 2 objective why new home page is release :\n",
    "1. Increase software download rate\n",
    "2. Increase lincense purchase rate\n",
    "\n",
    "Before evaluate those 2 evaluation metrics, I will examine the invariant metric to prove that collected data is valid. Used Two tail test to calculate p-value for each metric."
   ]
  },
  {
   "cell_type": "code",
   "execution_count": 256,
   "metadata": {},
   "outputs": [],
   "source": [
    "# import libraries\n",
    "import pandas as pd\n",
    "import numpy as np\n",
    "import matplotlib.pyplot as plt"
   ]
  },
  {
   "cell_type": "markdown",
   "metadata": {},
   "source": [
    "## Invariant metrics approval"
   ]
  },
  {
   "cell_type": "code",
   "execution_count": 257,
   "metadata": {},
   "outputs": [],
   "source": [
    "# load dataset into dataframe\n",
    "df = pd.read_csv('homepage.csv')"
   ]
  },
  {
   "cell_type": "code",
   "execution_count": 258,
   "metadata": {},
   "outputs": [
    {
     "data": {
      "text/html": [
       "<div>\n",
       "<style scoped>\n",
       "    .dataframe tbody tr th:only-of-type {\n",
       "        vertical-align: middle;\n",
       "    }\n",
       "\n",
       "    .dataframe tbody tr th {\n",
       "        vertical-align: top;\n",
       "    }\n",
       "\n",
       "    .dataframe thead th {\n",
       "        text-align: right;\n",
       "    }\n",
       "</style>\n",
       "<table border=\"1\" class=\"dataframe\">\n",
       "  <thead>\n",
       "    <tr style=\"text-align: right;\">\n",
       "      <th></th>\n",
       "      <th>Day</th>\n",
       "      <th>Control Cookies</th>\n",
       "      <th>Control Downloads</th>\n",
       "      <th>Control Licenses</th>\n",
       "      <th>Experiment Cookies</th>\n",
       "      <th>Experiment Downloads</th>\n",
       "      <th>Experiment Licenses</th>\n",
       "    </tr>\n",
       "  </thead>\n",
       "  <tbody>\n",
       "    <tr>\n",
       "      <th>0</th>\n",
       "      <td>1</td>\n",
       "      <td>1764</td>\n",
       "      <td>246</td>\n",
       "      <td>1</td>\n",
       "      <td>1850</td>\n",
       "      <td>339</td>\n",
       "      <td>3</td>\n",
       "    </tr>\n",
       "    <tr>\n",
       "      <th>1</th>\n",
       "      <td>2</td>\n",
       "      <td>1541</td>\n",
       "      <td>234</td>\n",
       "      <td>2</td>\n",
       "      <td>1590</td>\n",
       "      <td>281</td>\n",
       "      <td>2</td>\n",
       "    </tr>\n",
       "    <tr>\n",
       "      <th>2</th>\n",
       "      <td>3</td>\n",
       "      <td>1457</td>\n",
       "      <td>240</td>\n",
       "      <td>1</td>\n",
       "      <td>1515</td>\n",
       "      <td>274</td>\n",
       "      <td>1</td>\n",
       "    </tr>\n",
       "    <tr>\n",
       "      <th>3</th>\n",
       "      <td>4</td>\n",
       "      <td>1587</td>\n",
       "      <td>224</td>\n",
       "      <td>1</td>\n",
       "      <td>1541</td>\n",
       "      <td>284</td>\n",
       "      <td>2</td>\n",
       "    </tr>\n",
       "    <tr>\n",
       "      <th>4</th>\n",
       "      <td>5</td>\n",
       "      <td>1606</td>\n",
       "      <td>253</td>\n",
       "      <td>2</td>\n",
       "      <td>1643</td>\n",
       "      <td>292</td>\n",
       "      <td>3</td>\n",
       "    </tr>\n",
       "  </tbody>\n",
       "</table>\n",
       "</div>"
      ],
      "text/plain": [
       "   Day  Control Cookies  Control Downloads  Control Licenses  \\\n",
       "0    1             1764                246                 1   \n",
       "1    2             1541                234                 2   \n",
       "2    3             1457                240                 1   \n",
       "3    4             1587                224                 1   \n",
       "4    5             1606                253                 2   \n",
       "\n",
       "   Experiment Cookies  Experiment Downloads  Experiment Licenses  \n",
       "0                1850                   339                    3  \n",
       "1                1590                   281                    2  \n",
       "2                1515                   274                    1  \n",
       "3                1541                   284                    2  \n",
       "4                1643                   292                    3  "
      ]
     },
     "execution_count": 258,
     "metadata": {},
     "output_type": "execute_result"
    }
   ],
   "source": [
    "df.head()"
   ]
  },
  {
   "cell_type": "code",
   "execution_count": 259,
   "metadata": {},
   "outputs": [
    {
     "data": {
      "text/plain": [
       "(29, 7)"
      ]
     },
     "execution_count": 259,
     "metadata": {},
     "output_type": "execute_result"
    }
   ],
   "source": [
    "df.shape"
   ]
  },
  {
   "cell_type": "code",
   "execution_count": 260,
   "metadata": {},
   "outputs": [],
   "source": [
    "# calculate cookies of each group and total cookies\n",
    "con_group = df['Control Cookies'].sum()\n",
    "exp_group = df['Experiment Cookies'].sum()\n",
    "total = con_group + exp_group"
   ]
  },
  {
   "cell_type": "code",
   "execution_count": 261,
   "metadata": {},
   "outputs": [
    {
     "name": "stdout",
     "output_type": "stream",
     "text": [
      "[0.4973725277875092, 0.5026274722124908]\n"
     ]
    }
   ],
   "source": [
    "# proporsion of each group calculation\n",
    "prop_con = con_group /total\n",
    "prop_exp = exp_group /total\n",
    "print([prop_con, prop_exp])"
   ]
  },
  {
   "cell_type": "code",
   "execution_count": 262,
   "metadata": {},
   "outputs": [
    {
     "data": {
      "text/plain": [
       "0.005254944424981645"
      ]
     },
     "execution_count": 262,
     "metadata": {},
     "output_type": "execute_result"
    }
   ],
   "source": [
    "# calculate difference of both group\n",
    "mean_prop = prop_exp - prop_con\n",
    "mean_prop"
   ]
  },
  {
   "cell_type": "code",
   "execution_count": 263,
   "metadata": {},
   "outputs": [
    {
     "data": {
      "text/plain": [
       "array([-0.00127348,  0.00398754, -0.00268465, ..., -0.00244927,\n",
       "        0.00744903, -0.00549004])"
      ]
     },
     "execution_count": 263,
     "metadata": {},
     "output_type": "execute_result"
    }
   ],
   "source": [
    "# bootstraping to simulate data using binomial distribution\n",
    "boot_con = np.random.binomial(con_group, 0.5, 10000)/con_group\n",
    "boot_exp = np.random.binomial(exp_group, 0.5, 10000)/exp_group\n",
    "\n",
    "diff = boot_con - boot_exp\n",
    "diff"
   ]
  },
  {
   "cell_type": "code",
   "execution_count": 264,
   "metadata": {},
   "outputs": [
    {
     "data": {
      "image/png": "[encoded data removed]",
      "text/plain": [
       "<Figure size 432x288 with 1 Axes>"
      ]
     },
     "metadata": {
      "needs_background": "light"
     },
     "output_type": "display_data"
    }
   ],
   "source": [
    "plt.hist(diff);\n",
    "plt.axvline(mean_prop, color='red');"
   ]
  },
  {
   "cell_type": "code",
   "execution_count": 265,
   "metadata": {},
   "outputs": [],
   "source": [
    "p_val = (diff > mean_prop).mean() + (diff < 0 - (mean_prop-0)).mean()"
   ]
  },
  {
   "cell_type": "code",
   "execution_count": 266,
   "metadata": {
    "scrolled": true
   },
   "outputs": [
    {
     "data": {
      "text/plain": [
       "0.11069999999999999"
      ]
     },
     "execution_count": 266,
     "metadata": {},
     "output_type": "execute_result"
    }
   ],
   "source": [
    "p_val"
   ]
  },
  {
   "cell_type": "markdown",
   "metadata": {},
   "source": [
    "Based on pvalue, this dataset has not statistically significance so we can continue to explore evaluation metrics."
   ]
  },
  {
   "cell_type": "markdown",
   "metadata": {},
   "source": [
    "## Evaluation Metrics P-Value Calculation"
   ]
  },
  {
   "cell_type": "markdown",
   "metadata": {},
   "source": [
    "### download rate calculation"
   ]
  },
  {
   "cell_type": "code",
   "execution_count": 189,
   "metadata": {},
   "outputs": [],
   "source": [
    "con_group_dw = df.loc[:22,'Control Downloads'].sum()\n",
    "exp_group_dw = df.loc[:22,'Experiment Downloads'].sum()"
   ]
  },
  {
   "cell_type": "code",
   "execution_count": 277,
   "metadata": {},
   "outputs": [
    {
     "data": {
      "text/plain": [
       "[0.1614510395346332, 0.1800031816735603]"
      ]
     },
     "execution_count": 277,
     "metadata": {},
     "output_type": "execute_result"
    }
   ],
   "source": [
    "# proporsion calculation\n",
    "total_21 = df.loc[:22,'Control Cookies'].sum() + df.loc[:22,'Experiment Cookies'].sum()\n",
    "cookies_21 = df.loc[:22,'Control Cookies'].sum()\n",
    "experiment_21 = df.loc[:22,'Experiment Cookies'].sum()\n",
    "\n",
    "prop_con_dw = con_group_dw / cookies_21\n",
    "prop_exp_dw = exp_group_dw / experiment_21\n",
    "[prop_con_dw, prop_exp_dw]"
   ]
  },
  {
   "cell_type": "code",
   "execution_count": 210,
   "metadata": {},
   "outputs": [
    {
     "data": {
      "text/plain": [
       "0.17079948696023942"
      ]
     },
     "execution_count": 210,
     "metadata": {},
     "output_type": "execute_result"
    }
   ],
   "source": [
    "# calculate probability of cases\n",
    "proba = (con_group_dw + exp_group_dw)/total_21\n",
    "proba"
   ]
  },
  {
   "cell_type": "code",
   "execution_count": 206,
   "metadata": {},
   "outputs": [
    {
     "data": {
      "text/plain": [
       "0.018552142138927114"
      ]
     },
     "execution_count": 206,
     "metadata": {},
     "output_type": "execute_result"
    }
   ],
   "source": [
    "mean_dw = prop_exp_dw - prop_con_dw\n",
    "mean_dw"
   ]
  },
  {
   "cell_type": "code",
   "execution_count": 229,
   "metadata": {},
   "outputs": [],
   "source": [
    "# bootstraping to simulate data using binomial distribution\n",
    "boot_con_dw = np.random.binomial(cookies_21, proba, 10000)/cookies_21\n",
    "boot_exp_dw = np.random.binomial(experiment_21, proba, 10000)/experiment_21\n",
    "diff_dw = boot_exp_dw - boot_con_dw"
   ]
  },
  {
   "cell_type": "code",
   "execution_count": 253,
   "metadata": {
    "scrolled": true
   },
   "outputs": [
    {
     "data": {
      "image/png": "[encoded data removed]",
      "text/plain": [
       "<Figure size 432x288 with 1 Axes>"
      ]
     },
     "metadata": {
      "needs_background": "light"
     },
     "output_type": "display_data"
    }
   ],
   "source": [
    "# bootstraping results distribution plot\n",
    "plt.hist(boot_con_dw, alpha = 0.5, label = 'control');\n",
    "plt.hist(boot_exp_dw, alpha = 0.5, label = 'experiment');\n",
    "plt.title('Bootstraping result distribution');\n",
    "plt.xlabel('Download amount / cookies amount');\n",
    "plt.ylabel('Count');\n",
    "plt.legend()\n",
    "plt.show()"
   ]
  },
  {
   "cell_type": "code",
   "execution_count": 267,
   "metadata": {},
   "outputs": [
    {
     "data": {
      "image/png": "[encoded data removed]",
      "text/plain": [
       "<Figure size 432x288 with 1 Axes>"
      ]
     },
     "metadata": {
      "needs_background": "light"
     },
     "output_type": "display_data"
    }
   ],
   "source": [
    "# diff bootstraping result distribution plot\n",
    "plt.hist(diff_dw, bins = 50);\n",
    "plt.axvline(mean_dw, color = 'red');\n",
    "plt.title('Difference Between Control and Experiment Download Rate');\n",
    "plt.xlabel('Donwload rate difference');\n",
    "plt.ylabel('Count');"
   ]
  },
  {
   "cell_type": "code",
   "execution_count": 268,
   "metadata": {},
   "outputs": [
    {
     "data": {
      "text/plain": [
       "0.0"
      ]
     },
     "execution_count": 268,
     "metadata": {},
     "output_type": "execute_result"
    }
   ],
   "source": [
    "# Pvlue calculation\n",
    "p_val_dw = (diff_dw > mean_dw).mean() + (diff_dw < 0 - (mean_dw-0)).mean()\n",
    "p_val_dw"
   ]
  },
  {
   "cell_type": "markdown",
   "metadata": {},
   "source": [
    "with p value equal to 0, it shows that this condition is statistically significant. Download rate is increase from 16.14% to 18.00 % using the new homepage."
   ]
  },
  {
   "cell_type": "markdown",
   "metadata": {},
   "source": [
    "### license purchasing rate calculation"
   ]
  },
  {
   "cell_type": "code",
   "execution_count": 274,
   "metadata": {},
   "outputs": [],
   "source": [
    "# extracting licenses\n",
    "con_group_lc = df.loc[:22,'Control Licenses'].sum()\n",
    "exp_group_lc = df.loc[:22,'Experiment Licenses'].sum()\n",
    "total_lc = con_group_lc + exp_group_lc"
   ]
  },
  {
   "cell_type": "code",
   "execution_count": 278,
   "metadata": {},
   "outputs": [
    {
     "data": {
      "text/plain": [
       "[0.013411612625228914, 0.013999363665287942]"
      ]
     },
     "execution_count": 278,
     "metadata": {},
     "output_type": "execute_result"
    }
   ],
   "source": [
    "# proporsion calculation\n",
    "prop_con_lc = con_group_lc / cookies_21\n",
    "prop_exp_lc = exp_group_lc / experiment_21\n",
    "[prop_con_lc, prop_exp_lc]"
   ]
  },
  {
   "cell_type": "code",
   "execution_count": 279,
   "metadata": {},
   "outputs": [
    {
     "data": {
      "text/plain": [
       "0.013707781103035485"
      ]
     },
     "execution_count": 279,
     "metadata": {},
     "output_type": "execute_result"
    }
   ],
   "source": [
    "probb = (con_group_lc + exp_group_lc)/total_21\n",
    "probb"
   ]
  },
  {
   "cell_type": "code",
   "execution_count": 280,
   "metadata": {},
   "outputs": [
    {
     "data": {
      "text/plain": [
       "0.0005877510400590282"
      ]
     },
     "execution_count": 280,
     "metadata": {},
     "output_type": "execute_result"
    }
   ],
   "source": [
    "# actual proporsion difference\n",
    "mean_lc = prop_exp_lc - prop_con_lc\n",
    "mean_lc"
   ]
  },
  {
   "cell_type": "code",
   "execution_count": 285,
   "metadata": {},
   "outputs": [],
   "source": [
    "# bootstraping to simulate data using binomial distribution\n",
    "boot_con_lc = np.random.binomial(cookies_21, probb, 10000)/cookies_21\n",
    "boot_exp_lc = np.random.binomial(experiment_21, probb, 10000)/experiment_21\n",
    "diff_lc = boot_exp_lc - boot_con_lc"
   ]
  },
  {
   "cell_type": "code",
   "execution_count": 286,
   "metadata": {},
   "outputs": [
    {
     "data": {
      "image/png": "[encoded data removed]",
      "text/plain": [
       "<Figure size 432x288 with 1 Axes>"
      ]
     },
     "metadata": {
      "needs_background": "light"
     },
     "output_type": "display_data"
    }
   ],
   "source": [
    "# bootstraping results distribution plot\n",
    "plt.hist(boot_con_lc, alpha = 0.5, label = 'control');\n",
    "plt.hist(boot_exp_lc, alpha = 0.5, label = 'experiment');\n",
    "plt.title('Bootstraping result distribution');\n",
    "plt.xlabel('License purchase / cookies amount');\n",
    "plt.ylabel('Count');\n",
    "plt.legend()\n",
    "plt.show()"
   ]
  },
  {
   "cell_type": "code",
   "execution_count": 290,
   "metadata": {
    "scrolled": true
   },
   "outputs": [
    {
     "data": {
      "image/png": "[encoded data removed]",
      "text/plain": [
       "<Figure size 432x288 with 1 Axes>"
      ]
     },
     "metadata": {
      "needs_background": "light"
     },
     "output_type": "display_data"
    }
   ],
   "source": [
    "plt.hist(diff_lc, bins = 20);\n",
    "plt.axvline(mean_lc, color = 'red');\n",
    "plt.title('Difference Between Control and Experiment License Purchase Rate');\n",
    "plt.xlabel('Purchase rate difference');\n",
    "plt.ylabel('Count');"
   ]
  },
  {
   "cell_type": "code",
   "execution_count": 288,
   "metadata": {},
   "outputs": [
    {
     "data": {
      "text/plain": [
       "0.4896"
      ]
     },
     "execution_count": 288,
     "metadata": {},
     "output_type": "execute_result"
    }
   ],
   "source": [
    "# Pvalue calculation\n",
    "p_val_lc = (diff_lc > mean_lc).mean() + (diff_lc < 0 - (mean_lc-0)).mean()\n",
    "p_val_lc"
   ]
  },
  {
   "cell_type": "markdown",
   "metadata": {},
   "source": [
    "From p value calculation, we can get a conclusion that new home page does not make license purchase rate increase. From actual proporsion control convert 0.0134 and experiment convert 0.0139."
   ]
  },
  {
   "cell_type": "markdown",
   "metadata": {},
   "source": [
    "## Conclusion "
   ]
  },
  {
   "cell_type": "code",
   "execution_count": null,
   "metadata": {},
   "outputs": [],
   "source": []
  }
 ],
 "metadata": {
  "kernelspec": {
   "display_name": "Python 3",
   "language": "python",
   "name": "python3"
  },
  "language_info": {
   "codemirror_mode": {
    "name": "ipython",
    "version": 3
   },
   "file_extension": ".py",
   "mimetype": "text/x-python",
   "name": "python",
   "nbconvert_exporter": "python",
   "pygments_lexer": "ipython3",
   "version": "3.7.6"
  }
 },
 "nbformat": 4,
 "nbformat_minor": 2
}
